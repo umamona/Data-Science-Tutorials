{
  "nbformat": 4,
  "nbformat_minor": 0,
  "metadata": {
    "colab": {
      "provenance": [],
      "authorship_tag": "ABX9TyPnblivgdrus0aEFBG2Q+Xa",
      "include_colab_link": true
    },
    "kernelspec": {
      "name": "python3",
      "display_name": "Python 3"
    },
    "language_info": {
      "name": "python"
    }
  },
  "cells": [
    {
      "cell_type": "markdown",
      "metadata": {
        "id": "view-in-github",
        "colab_type": "text"
      },
      "source": [
        "<a href=\"https://colab.research.google.com/github/umamona/Data-Science-Tutorials/blob/master/striding_and_padding_in_cv.ipynb\" target=\"_parent\"><img src=\"https://colab.research.google.com/assets/colab-badge.svg\" alt=\"Open In Colab\"/></a>"
      ]
    },
    {
      "cell_type": "code",
      "execution_count": 1,
      "metadata": {
        "id": "zk5ViGLVrkIC"
      },
      "outputs": [],
      "source": [
        "import numpy as np\n",
        "from itertools import product\n",
        "from skimage import draw, transform\n",
        "\n",
        "def circle(size, val=None, r_shrink=0):\n",
        "    circle = np.zeros([size[0]+1, size[1]+1])\n",
        "    rr, cc = draw.circle_perimeter(\n",
        "        size[0]//2, size[1]//2,\n",
        "        radius=size[0]//2 - r_shrink,\n",
        "        shape=[size[0]+1, size[1]+1],\n",
        "    )\n",
        "    if val is None:\n",
        "        circle[rr, cc] = np.random.uniform(size=circle.shape)[rr, cc]\n",
        "    else:\n",
        "        circle[rr, cc] = val\n",
        "    circle = transform.resize(circle, size, order=0)\n",
        "    return circle\n",
        "\n",
        "def show_kernel(kernel, label=True, digits=None, text_size=28):\n",
        "    # Format kernel\n",
        "    kernel = np.array(kernel)\n",
        "    if digits is not None:\n",
        "        kernel = kernel.round(digits)\n",
        "\n",
        "    # Plot kernel\n",
        "    cmap = plt.get_cmap('Blues_r')\n",
        "    plt.imshow(kernel, cmap=cmap)\n",
        "    rows, cols = kernel.shape\n",
        "    thresh = (kernel.max()+kernel.min())/2\n",
        "    # Optionally, add value labels\n",
        "    if label:\n",
        "        for i, j in product(range(rows), range(cols)):\n",
        "            val = kernel[i, j]\n",
        "            color = cmap(0) if val > thresh else cmap(255)\n",
        "            plt.text(j, i, val, \n",
        "                     color=color, size=text_size,\n",
        "                     horizontalalignment='center', verticalalignment='center')\n",
        "    plt.xticks([])\n",
        "    plt.yticks([])\n",
        "\n",
        "def show_extraction(image,\n",
        "                    kernel,\n",
        "                    conv_stride=1,\n",
        "                    conv_padding='valid',\n",
        "                    activation='relu',\n",
        "                    pool_size=2,\n",
        "                    pool_stride=2,\n",
        "                    pool_padding='same',\n",
        "                    figsize=(10, 10),\n",
        "                    subplot_shape=(2, 2),\n",
        "                    ops=['Input', 'Filter', 'Detect', 'Condense'],\n",
        "                    gamma=1.0):\n",
        "    # Create Layers\n",
        "    model = tf.keras.Sequential([\n",
        "                    tf.keras.layers.Conv2D(\n",
        "                        filters=1,\n",
        "                        kernel_size=kernel.shape,\n",
        "                        strides=conv_stride,\n",
        "                        padding=conv_padding,\n",
        "                        use_bias=False,\n",
        "                        input_shape=image.shape,\n",
        "                    ),\n",
        "                    tf.keras.layers.Activation(activation),\n",
        "                    tf.keras.layers.MaxPool2D(\n",
        "                        pool_size=pool_size,\n",
        "                        strides=pool_stride,\n",
        "                        padding=pool_padding,\n",
        "                    ),\n",
        "                   ])\n",
        "\n",
        "    layer_filter, layer_detect, layer_condense = model.layers\n",
        "    kernel = tf.reshape(kernel, [*kernel.shape, 1, 1])\n",
        "    layer_filter.set_weights([kernel])\n",
        "\n",
        "    # Format for TF\n",
        "    image = tf.expand_dims(image, axis=0)\n",
        "    image = tf.image.convert_image_dtype(image, dtype=tf.float32) \n",
        "    \n",
        "    # Extract Feature\n",
        "    image_filter = layer_filter(image)\n",
        "    image_detect = layer_detect(image_filter)\n",
        "    image_condense = layer_condense(image_detect)\n",
        "    \n",
        "    images = {}\n",
        "    if 'Input' in ops:\n",
        "        images.update({'Input': (image, 1.0)})\n",
        "    if 'Filter' in ops:\n",
        "        images.update({'Filter': (image_filter, 1.0)})\n",
        "    if 'Detect' in ops:\n",
        "        images.update({'Detect': (image_detect, gamma)})\n",
        "    if 'Condense' in ops:\n",
        "        images.update({'Condense': (image_condense, gamma)})\n",
        "    \n",
        "    # Plot\n",
        "    plt.figure(figsize=figsize)\n",
        "    for i, title in enumerate(ops):\n",
        "        image, gamma = images[title]\n",
        "        plt.subplot(*subplot_shape, i+1)\n",
        "        plt.imshow(tf.image.adjust_gamma(tf.squeeze(image), gamma))\n",
        "        plt.axis('off')\n",
        "        plt.title(title)"
      ]
    },
    {
      "cell_type": "code",
      "source": [
        "from tensorflow import keras\n",
        "from tensorflow.keras import layers\n",
        "\n",
        "model = keras.Sequential([\n",
        "    layers.Conv2D(filters=64,\n",
        "                  kernel_size=3,\n",
        "                  strides=1,\n",
        "                  padding='same',\n",
        "                  activation='relu'),\n",
        "    layers.MaxPool2D(pool_size=2,\n",
        "                     strides=1,\n",
        "                     padding='same')\n",
        "    # More layers follow\n",
        "])"
      ],
      "metadata": {
        "id": "d8lvA-ZLrrq1"
      },
      "execution_count": 2,
      "outputs": []
    },
    {
      "cell_type": "code",
      "source": [
        "Example - Exploring Sliding Windows\n",
        "To better understand the effect of the sliding window parameters, it can help to observe a feature extraction on a low-resolution image so that we can see the individual pixels. Let's just look at a simple circle.\n",
        "\n",
        "This next hidden cell will create an image and kernel for us."
      ],
      "metadata": {
        "id": "b4RNnXY5tsm6"
      },
      "execution_count": null,
      "outputs": []
    },
    {
      "cell_type": "code",
      "source": [
        "import tensorflow as tf\n",
        "import matplotlib.pyplot as plt\n",
        "\n",
        "plt.rc('figure', autolayout=True)\n",
        "plt.rc('axes', labelweight='bold', labelsize='large',\n",
        "       titleweight='bold', titlesize=18, titlepad=10)\n",
        "plt.rc('image', cmap='magma')\n",
        "\n",
        "image = circle([64, 64], val=1.0, r_shrink=3)\n",
        "image = tf.reshape(image, [*image.shape, 1])\n",
        "# Bottom sobel\n",
        "kernel = tf.constant(\n",
        "    [[-1, -2, -1],\n",
        "     [0, 0, 0],\n",
        "     [1, 2, 1]],\n",
        ")\n",
        "\n",
        "show_kernel(kernel)"
      ],
      "metadata": {
        "colab": {
          "base_uri": "https://localhost:8080/",
          "height": 297
        },
        "id": "46N0UwwYse2v",
        "outputId": "c0867faa-cb81-4b21-e52f-928e1d927f79"
      },
      "execution_count": 3,
      "outputs": [
        {
          "output_type": "display_data",
          "data": {
            "text/plain": [
              "<Figure size 432x288 with 1 Axes>"
            ],
            "image/png": "[encoded data removed]"
          },
          "metadata": {}
        }
      ]
    },
    {
      "cell_type": "code",
      "source": [
        "show_extraction(\n",
        "    image, kernel,\n",
        "\n",
        "    # Window parameters\n",
        "    conv_stride=1,\n",
        "    pool_size=2,\n",
        "    pool_stride=2,\n",
        "\n",
        "    subplot_shape=(1, 4),\n",
        "    figsize=(14, 6),\n",
        ")"
      ],
      "metadata": {
        "colab": {
          "base_uri": "https://localhost:8080/",
          "height": 293
        },
        "id": "eUy_iRmSt4sH",
        "outputId": "489e015e-e89f-4b77-d509-5718d98ebca1"
      },
      "execution_count": 4,
      "outputs": [
        {
          "output_type": "display_data",
          "data": {
            "text/plain": [
              "<Figure size 1008x432 with 4 Axes>"
            ],
            "image/png": "[encoded data removed]"
          },
          "metadata": {
            "needs_background": "light"
          }
        }
      ]
    },
    {
      "cell_type": "markdown",
      "source": [
        "What would happen if we changed the strides of the convolution to 3"
      ],
      "metadata": {
        "id": "6AjhDX0xuHkY"
      }
    },
    {
      "cell_type": "code",
      "source": [
        "show_extraction(\n",
        "    image, kernel,\n",
        "\n",
        "    # Window parameters\n",
        "    conv_stride=3,\n",
        "    pool_size=2,\n",
        "    pool_stride=2,\n",
        "\n",
        "    subplot_shape=(1, 4),\n",
        "    figsize=(14, 6),    \n",
        ")"
      ],
      "metadata": {
        "colab": {
          "base_uri": "https://localhost:8080/",
          "height": 293
        },
        "id": "FTNrxXnVt-yg",
        "outputId": "4b122dcc-0d5c-43f1-c461-bd07a38281a5"
      },
      "execution_count": 5,
      "outputs": [
        {
          "output_type": "display_data",
          "data": {
            "text/plain": [
              "<Figure size 1008x432 with 4 Axes>"
            ],
            "image/png": "[encoded data removed]"
          },
          "metadata": {
            "needs_background": "light"
          }
        }
      ]
    },
    {
      "cell_type": "markdown",
      "source": [
        "Sometimes, a model will use a convolution with a larger stride in it's initial layer. This will usually be coupled with a larger kernel as well. The ResNet50 model, for instance, uses  7×7\n",
        "  kernels with strides of 2 in its first layer. This seems to accelerate the production of large-scale features without the sacrifice of too much information from the input"
      ],
      "metadata": {
        "id": "TtJtRq6ouU0k"
      }
    },
    {
      "cell_type": "markdown",
      "source": [
        "exercise\n"
      ],
      "metadata": {
        "id": "iQUfk9mvuorl"
      }
    },
    {
      "cell_type": "code",
      "source": [
        "import tensorflow as tf\n",
        "import matplotlib.pyplot as plt\n",
        "import computervision.visiontools as visiontools\n",
        "\n",
        "\n",
        "plt.rc('figure', autolayout=True)\n",
        "plt.rc('axes', labelweight='bold', labelsize='large',\n",
        "       titleweight='bold', titlesize=18, titlepad=10)\n",
        "plt.rc('image', cmap='magma')"
      ],
      "metadata": {
        "colab": {
          "base_uri": "https://localhost:8080/",
          "height": 373
        },
        "id": "nzx0d-42uLw5",
        "outputId": "9f78f5ac-35f4-470e-f2de-c2c9b239d1e8"
      },
      "execution_count": 7,
      "outputs": [
        {
          "output_type": "error",
          "ename": "ModuleNotFoundError",
          "evalue": "ignored",
          "traceback": [
            "\u001b[0;31m---------------------------------------------------------------------------\u001b[0m",
            "\u001b[0;31mModuleNotFoundError\u001b[0m                       Traceback (most recent call last)",
            "\u001b[0;32m<ipython-input-7-deb8fab7329c>\u001b[0m in \u001b[0;36m<module>\u001b[0;34m\u001b[0m\n\u001b[1;32m      1\u001b[0m \u001b[0;32mimport\u001b[0m \u001b[0mtensorflow\u001b[0m \u001b[0;32mas\u001b[0m \u001b[0mtf\u001b[0m\u001b[0;34m\u001b[0m\u001b[0;34m\u001b[0m\u001b[0m\n\u001b[1;32m      2\u001b[0m \u001b[0;32mimport\u001b[0m \u001b[0mmatplotlib\u001b[0m\u001b[0;34m.\u001b[0m\u001b[0mpyplot\u001b[0m \u001b[0;32mas\u001b[0m \u001b[0mplt\u001b[0m\u001b[0;34m\u001b[0m\u001b[0;34m\u001b[0m\u001b[0m\n\u001b[0;32m----> 3\u001b[0;31m \u001b[0;32mimport\u001b[0m \u001b[0mcomputervision\u001b[0m\u001b[0;34m.\u001b[0m\u001b[0mvisiontools\u001b[0m \u001b[0;32mas\u001b[0m \u001b[0mvisiontools\u001b[0m\u001b[0;34m\u001b[0m\u001b[0;34m\u001b[0m\u001b[0m\n\u001b[0m\u001b[1;32m      4\u001b[0m \u001b[0;34m\u001b[0m\u001b[0m\n\u001b[1;32m      5\u001b[0m \u001b[0;34m\u001b[0m\u001b[0m\n",
            "\u001b[0;31mModuleNotFoundError\u001b[0m: No module named 'computervision'",
            "",
            "\u001b[0;31m---------------------------------------------------------------------------\u001b[0;32m\nNOTE: If your import is failing due to a missing package, you can\nmanually install dependencies using either !pip or !apt.\n\nTo view examples of installing some common dependencies, click the\n\"Open Examples\" button below.\n\u001b[0;31m---------------------------------------------------------------------------\u001b[0m\n"
          ],
          "errorDetails": {
            "actions": [
              {
                "action": "open_url",
                "actionText": "Open Examples",
                "url": "/notebooks/snippets/importing_libraries.ipynb"
              }
            ]
          }
        }
      ]
    },
    {
      "cell_type": "code",
      "source": [
        "# YOUR CODE HERE: choose an image\n",
        "image = circle_64\n",
        "\n",
        "# YOUR CODE HERE: choose a kernel\n",
        "kernel = bottom_sobel\n",
        "\n",
        "visiontools.show_extraction(\n",
        "    image, kernel,\n",
        "\n",
        "    # YOUR CODE HERE: set parameters\n",
        "    conv_stride=1,\n",
        "    conv_padding='valid',\n",
        "    pool_size=2,\n",
        "    pool_stride=2,\n",
        "    pool_padding='same',\n",
        "    \n",
        "    subplot_shape=(1, 4),\n",
        "    figsize=(14, 6),\n",
        ")"
      ],
      "metadata": {
        "colab": {
          "base_uri": "https://localhost:8080/",
          "height": 235
        },
        "id": "FSkD4N9Qurym",
        "outputId": "8428140e-fd6a-47b7-a4ff-ba14c39887cb"
      },
      "execution_count": 8,
      "outputs": [
        {
          "output_type": "error",
          "ename": "NameError",
          "evalue": "ignored",
          "traceback": [
            "\u001b[0;31m---------------------------------------------------------------------------\u001b[0m",
            "\u001b[0;31mNameError\u001b[0m                                 Traceback (most recent call last)",
            "\u001b[0;32m<ipython-input-8-8277e13eb98d>\u001b[0m in \u001b[0;36m<module>\u001b[0;34m\u001b[0m\n\u001b[1;32m      1\u001b[0m \u001b[0;31m# YOUR CODE HERE: choose an image\u001b[0m\u001b[0;34m\u001b[0m\u001b[0;34m\u001b[0m\u001b[0;34m\u001b[0m\u001b[0m\n\u001b[0;32m----> 2\u001b[0;31m \u001b[0mimage\u001b[0m \u001b[0;34m=\u001b[0m \u001b[0mcircle_64\u001b[0m\u001b[0;34m\u001b[0m\u001b[0;34m\u001b[0m\u001b[0m\n\u001b[0m\u001b[1;32m      3\u001b[0m \u001b[0;34m\u001b[0m\u001b[0m\n\u001b[1;32m      4\u001b[0m \u001b[0;31m# YOUR CODE HERE: choose a kernel\u001b[0m\u001b[0;34m\u001b[0m\u001b[0;34m\u001b[0m\u001b[0;34m\u001b[0m\u001b[0m\n\u001b[1;32m      5\u001b[0m \u001b[0mkernel\u001b[0m \u001b[0;34m=\u001b[0m \u001b[0mbottom_sobel\u001b[0m\u001b[0;34m\u001b[0m\u001b[0;34m\u001b[0m\u001b[0m\n",
            "\u001b[0;31mNameError\u001b[0m: name 'circle_64' is not defined"
          ]
        }
      ]
    },
    {
      "cell_type": "code",
      "source": [
        "#2nd example same program\n",
        "# YOUR CODE HERE: choose an image\n",
        "image = kaggle_k\n",
        "\n",
        "# YOUR CODE HERE: choose a kernel\n",
        "kernel = emboss\n",
        "\n",
        "visiontools.show_extraction(\n",
        "    image, kernel,\n",
        "\n",
        "    # YOUR CODE HERE: set parameters\n",
        "    conv_stride=1,\n",
        "    conv_padding='valid',\n",
        "    pool_size=2,\n",
        "    pool_stride=2,\n",
        "    pool_padding='same',\n",
        "    \n",
        "    subplot_shape=(2, 6),\n",
        "    figsize=(14, 6),\n",
        ")"
      ],
      "metadata": {
        "id": "16I7VdCXvoTQ"
      },
      "execution_count": null,
      "outputs": []
    },
    {
      "cell_type": "markdown",
      "source": [
        "The Receptive Field\n",
        "Trace back all the connections from some neuron and eventually you reach the input image. All of the input pixels a neuron is connected to is that neuron's receptive field. The receptive field just tells you which parts of the input image a neuron receives information from."
      ],
      "metadata": {
        "id": "9WgQk001wNya"
      }
    },
    {
      "cell_type": "markdown",
      "source": [
        "Convolutional networks turn out to be useful not only (two-dimensional) images, but also on things like time-series (one-dimensional) and video (three-dimensional)."
      ],
      "metadata": {
        "id": "ZMuTLwMAwsXb"
      }
    },
    {
      "cell_type": "code",
      "source": [
        "import pandas as pd\n",
        "\n",
        "# Load the time series as a Pandas dataframe\n",
        "machinelearning = pd.read_csv(\n",
        "    'C:\\Users\\Admin\\OneDrive - ACU\\Desktop\\machinelearning.csv',encoding='utf-8'   \n",
        "     parse_dates=['Week'],\n",
        "    index_col='Week',\n",
        ")\n",
        "\n",
        "machinelearning.plot();"
      ],
      "metadata": {
        "colab": {
          "base_uri": "https://localhost:8080/",
          "height": 130
        },
        "id": "RQtnyS9FwOvC",
        "outputId": "c5ee0cca-93ee-4883-b6c5-6795d67168ea"
      },
      "execution_count": 13,
      "outputs": [
        {
          "output_type": "error",
          "ename": "SyntaxError",
          "evalue": "ignored",
          "traceback": [
            "\u001b[0;36m  File \u001b[0;32m\"<ipython-input-13-b4e1adf212d8>\"\u001b[0;36m, line \u001b[0;32m6\u001b[0m\n\u001b[0;31m    parse_dates=['Week'],\u001b[0m\n\u001b[0m    ^\u001b[0m\n\u001b[0;31mSyntaxError\u001b[0m\u001b[0;31m:\u001b[0m invalid syntax\n"
          ]
        }
      ]
    },
    {
      "cell_type": "markdown",
      "source": [
        "What about the kernels? Images are two-dimensional and so our kernels were 2D arrays. A time-series is one-dimensional, so what should the kernel be? A 1D array! Here are some kernels sometimes used on time-series data:"
      ],
      "metadata": {
        "id": "sudLpQuvyPsq"
      }
    },
    {
      "cell_type": "code",
      "source": [
        "detrend = tf.constant([-1, 1], dtype=tf.float32)\n",
        "\n",
        "average = tf.constant([0.2, 0.2, 0.2, 0.2, 0.2], dtype=tf.float32)\n",
        "\n",
        "spencer = tf.constant([-3, -6, -5, 3, 21, 46, 67, 74, 67, 46, 32, 3, -5, -6, -3], dtype=tf.float32) / 320"
      ],
      "metadata": {
        "id": "OEiyg3puwtQF"
      },
      "execution_count": null,
      "outputs": []
    },
    {
      "cell_type": "markdown",
      "source": [
        "Can you guess what kind of features these kernels extract? Uncomment one of the kernels below and run the cell to see!"
      ],
      "metadata": {
        "id": "VYBhatj3yTFr"
      }
    },
    {
      "cell_type": "code",
      "source": [
        "# UNCOMMENT ONE\n",
        "kernel = detrend\n",
        "# kernel = average\n",
        "# kernel = spencer\n",
        "\n",
        "# Reformat for TensorFlow\n",
        "ts_data = machinelearning.to_numpy()\n",
        "ts_data = tf.expand_dims(ts_data, axis=0)\n",
        "ts_data = tf.cast(ts_data, dtype=tf.float32)\n",
        "kern = tf.reshape(kernel, shape=(*kernel.shape, 1, 1))\n",
        "\n",
        "ts_filter = tf.nn.conv1d(\n",
        "    input=ts_data,\n",
        "    filters=kern,\n",
        "    stride=1,\n",
        "    padding='VALID',\n",
        ")\n",
        "\n",
        "# Format as Pandas Series\n",
        "machinelearning_filtered = pd.Series(tf.squeeze(ts_filter).numpy())\n",
        "\n",
        "machinelearning_filtered.plot();"
      ],
      "metadata": {
        "id": "7k1JrShsyWpq"
      },
      "execution_count": null,
      "outputs": []
    }
  ]
}